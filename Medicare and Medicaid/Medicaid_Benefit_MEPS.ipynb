{
 "cells": [
  {
   "cell_type": "code",
   "execution_count": 1,
   "metadata": {
    "collapsed": true
   },
   "outputs": [],
   "source": [
    "import pandas as pd\n",
    "import numpy as np\n",
    "import random"
   ]
  },
  {
   "cell_type": "code",
   "execution_count": 58,
   "metadata": {
    "collapsed": true
   },
   "outputs": [],
   "source": [
    "PATH = \"/Users/Amy/Dropbox/OSPC - Shared/MEPS/\""
   ]
  },
  {
   "cell_type": "code",
   "execution_count": 59,
   "metadata": {
    "collapsed": false
   },
   "outputs": [],
   "source": [
    "raw_MEPS = pd.read_csv(str(PATH + 'h171.csv'))"
   ]
  },
  {
   "cell_type": "code",
   "execution_count": 60,
   "metadata": {
    "collapsed": false
   },
   "outputs": [],
   "source": [
    "id_for_analysis = ['DUPERSID','PANEL', 'WAGEP14X', 'REGION14', 'PERWT14F', 'SEX','AGE14X', 'TOTMCD14']\n",
    "MEPS_medicaid = raw_MEPS[id_for_analysis]"
   ]
  },
  {
   "cell_type": "code",
   "execution_count": 61,
   "metadata": {
    "collapsed": false
   },
   "outputs": [
    {
     "name": "stderr",
     "output_type": "stream",
     "text": [
      "/Users/Amy/anaconda/lib/python2.7/site-packages/ipykernel/__main__.py:1: FutureWarning: sort(columns=....) is deprecated, use sort_values(by=.....)\n",
      "  if __name__ == '__main__':\n"
     ]
    }
   ],
   "source": [
    "MEPS_medicaid.sort('WAGEP14X', inplace=True)"
   ]
  },
  {
   "cell_type": "code",
   "execution_count": 62,
   "metadata": {
    "collapsed": false
   },
   "outputs": [],
   "source": [
    "MEPS_medicaid_pos = MEPS_medicaid[MEPS_medicaid.TOTMCD14>0]"
   ]
  },
  {
   "cell_type": "code",
   "execution_count": 63,
   "metadata": {
    "collapsed": false
   },
   "outputs": [
    {
     "name": "stderr",
     "output_type": "stream",
     "text": [
      "/Users/Amy/anaconda/lib/python2.7/site-packages/ipykernel/__main__.py:1: SettingWithCopyWarning: \n",
      "A value is trying to be set on a copy of a slice from a DataFrame.\n",
      "Try using .loc[row_indexer,col_indexer] = value instead\n",
      "\n",
      "See the caveats in the documentation: http://pandas.pydata.org/pandas-docs/stable/indexing.html#indexing-view-versus-copy\n",
      "  if __name__ == '__main__':\n"
     ]
    }
   ],
   "source": [
    "MEPS_medicaid_pos['cumsum_wt'] = MEPS_medicaid_pos.PERWT14F.cumsum()"
   ]
  },
  {
   "cell_type": "code",
   "execution_count": 64,
   "metadata": {
    "collapsed": true
   },
   "outputs": [],
   "source": [
    "each_decile = MEPS_medicaid_pos.PERWT14F.sum()/10\n",
    "plot_data = []\n",
    "for i in range(1, 11):\n",
    "    b = MEPS_medicaid_pos[(MEPS_medicaid_pos.cumsum_wt>(i-1)*each_decile)&(MEPS_medicaid_pos.cumsum_wt<i*each_decile)]\n",
    "    average = (b.TOTMCD14 * b.PERWT14F).sum()/b.PERWT14F.sum()\n",
    "    income = max(b.WAGEP14X)\n",
    "    plot_data.append([average, income])\n",
    "    \n",
    "plot_data=pd.DataFrame(plot_data)\n",
    "plot_data.columns=['average','income'] \n",
    "    "
   ]
  },
  {
   "cell_type": "code",
   "execution_count": 65,
   "metadata": {
    "collapsed": false
   },
   "outputs": [
    {
     "data": {
      "text/plain": [
       "2345.9163209882454"
      ]
     },
     "execution_count": 65,
     "metadata": {},
     "output_type": "execute_result"
    }
   ],
   "source": [
    "(MEPS_medicaid_pos.PERWT14F * MEPS_medicaid_pos.TOTMCD14).sum()/MEPS_medicaid_pos.PERWT14F.sum()"
   ]
  },
  {
   "cell_type": "code",
   "execution_count": 66,
   "metadata": {
    "collapsed": false
   },
   "outputs": [
    {
     "data": {
      "text/plain": [
       "172.3034567887599"
      ]
     },
     "execution_count": 66,
     "metadata": {},
     "output_type": "execute_result"
    }
   ],
   "source": [
    "(MEPS_medicaid_pos.PERWT14F * MEPS_medicaid_pos.TOTMCD14).sum()/1000000000"
   ]
  },
  {
   "cell_type": "code",
   "execution_count": 67,
   "metadata": {
    "collapsed": false
   },
   "outputs": [
    {
     "data": {
      "text/html": [
       "<div>\n",
       "<table border=\"1\" class=\"dataframe\">\n",
       "  <thead>\n",
       "    <tr style=\"text-align: right;\">\n",
       "      <th></th>\n",
       "      <th>average</th>\n",
       "      <th>income</th>\n",
       "    </tr>\n",
       "    <tr>\n",
       "      <th>income</th>\n",
       "      <th></th>\n",
       "      <th></th>\n",
       "    </tr>\n",
       "  </thead>\n",
       "  <tbody>\n",
       "    <tr>\n",
       "      <th>0</th>\n",
       "      <td>2716.026233</td>\n",
       "      <td>0</td>\n",
       "    </tr>\n",
       "    <tr>\n",
       "      <th>0</th>\n",
       "      <td>2223.617972</td>\n",
       "      <td>0</td>\n",
       "    </tr>\n",
       "    <tr>\n",
       "      <th>0</th>\n",
       "      <td>2948.454657</td>\n",
       "      <td>0</td>\n",
       "    </tr>\n",
       "    <tr>\n",
       "      <th>0</th>\n",
       "      <td>2703.504003</td>\n",
       "      <td>0</td>\n",
       "    </tr>\n",
       "    <tr>\n",
       "      <th>0</th>\n",
       "      <td>2780.533925</td>\n",
       "      <td>0</td>\n",
       "    </tr>\n",
       "    <tr>\n",
       "      <th>0</th>\n",
       "      <td>2444.676672</td>\n",
       "      <td>0</td>\n",
       "    </tr>\n",
       "    <tr>\n",
       "      <th>6000</th>\n",
       "      <td>2658.314567</td>\n",
       "      <td>6000</td>\n",
       "    </tr>\n",
       "    <tr>\n",
       "      <th>18019</th>\n",
       "      <td>2279.993551</td>\n",
       "      <td>18019</td>\n",
       "    </tr>\n",
       "    <tr>\n",
       "      <th>40560</th>\n",
       "      <td>1580.590052</td>\n",
       "      <td>40560</td>\n",
       "    </tr>\n",
       "    <tr>\n",
       "      <th>307829</th>\n",
       "      <td>1128.228537</td>\n",
       "      <td>307829</td>\n",
       "    </tr>\n",
       "  </tbody>\n",
       "</table>\n",
       "</div>"
      ],
      "text/plain": [
       "            average  income\n",
       "income                     \n",
       "0       2716.026233       0\n",
       "0       2223.617972       0\n",
       "0       2948.454657       0\n",
       "0       2703.504003       0\n",
       "0       2780.533925       0\n",
       "0       2444.676672       0\n",
       "6000    2658.314567    6000\n",
       "18019   2279.993551   18019\n",
       "40560   1580.590052   40560\n",
       "307829  1128.228537  307829"
      ]
     },
     "execution_count": 67,
     "metadata": {},
     "output_type": "execute_result"
    }
   ],
   "source": [
    "plot_data.income=plot_data.income.astype(int)\n",
    "plot_data.set_index(plot_data.income)"
   ]
  },
  {
   "cell_type": "code",
   "execution_count": 68,
   "metadata": {
    "collapsed": true
   },
   "outputs": [],
   "source": [
    "%matplotlib inline\n",
    "import matplotlib.pyplot as plt"
   ]
  },
  {
   "cell_type": "code",
   "execution_count": 69,
   "metadata": {
    "collapsed": false
   },
   "outputs": [
    {
     "data": {
      "text/plain": [
       "<matplotlib.axes._subplots.AxesSubplot at 0x1260beb50>"
      ]
     },
     "execution_count": 69,
     "metadata": {},
     "output_type": "execute_result"
    },
    {
     "data": {
      "image/png": "[encoded data removed]",
      "text/plain": [
       "<matplotlib.figure.Figure at 0x13d7ec210>"
      ]
     },
     "metadata": {},
     "output_type": "display_data"
    }
   ],
   "source": [
    "plot_data['average'].plot()"
   ]
  },
  {
   "cell_type": "code",
   "execution_count": 70,
   "metadata": {
    "collapsed": false
   },
   "outputs": [
    {
     "name": "stderr",
     "output_type": "stream",
     "text": [
      "/Users/Amy/anaconda/lib/python2.7/site-packages/ipykernel/__main__.py:1: SettingWithCopyWarning: \n",
      "A value is trying to be set on a copy of a slice from a DataFrame.\n",
      "Try using .loc[row_indexer,col_indexer] = value instead\n",
      "\n",
      "See the caveats in the documentation: http://pandas.pydata.org/pandas-docs/stable/indexing.html#indexing-view-versus-copy\n",
      "  if __name__ == '__main__':\n"
     ]
    }
   ],
   "source": [
    "MEPS_medicaid['yes_to_md'] = np.where(MEPS_medicaid.TOTMCD14!=0, 1, 0)"
   ]
  },
  {
   "cell_type": "code",
   "execution_count": 71,
   "metadata": {
    "collapsed": false
   },
   "outputs": [],
   "source": [
    "MEPS_medicaid = MEPS_medicaid[MEPS_medicaid.yes_to_md==1]"
   ]
  },
  {
   "cell_type": "code",
   "execution_count": 72,
   "metadata": {
    "collapsed": false
   },
   "outputs": [],
   "source": [
    "MEPS_medicaid.SEX = np.where(MEPS_medicaid.SEX=='2 FEMALE', 'Female', 'Male')"
   ]
  },
  {
   "cell_type": "code",
   "execution_count": 73,
   "metadata": {
    "collapsed": false
   },
   "outputs": [],
   "source": [
    "MEPS_medicaid.REGION14 = MEPS_medicaid.REGION14.str.split(' ', expand=True, n = 1).get(1).values\n",
    "MEPS_medicaid.REGION14 = MEPS_medicaid.REGION14.str.capitalize()"
   ]
  },
  {
   "cell_type": "code",
   "execution_count": 2,
   "metadata": {
    "collapsed": false
   },
   "outputs": [
    {
     "name": "stderr",
     "output_type": "stream",
     "text": [
      "/Users/Amy/anaconda/lib/python2.7/site-packages/IPython/core/interactiveshell.py:2902: DtypeWarning: Columns (5,23,24,29,83,265,282) have mixed types. Specify dtype option on import or set low_memory=False.\n",
      "  interactivity=interactivity, compiler=compiler, result=result)\n"
     ]
    }
   ],
   "source": [
    "CPS = pd.read_csv('/Users/Amy/Dropbox/OSPC - Shared/CPS/cpsmar2014t.csv')"
   ]
  },
  {
   "cell_type": "code",
   "execution_count": 3,
   "metadata": {
    "collapsed": false
   },
   "outputs": [],
   "source": [
    "medicaid_columns = ['mcaid','peridnum','marsupwt', 'wsal_val', 'a_age', 'a_sex', 'gereg', 'h_seq','povll']\n",
    "CPS = CPS[medicaid_columns]"
   ]
  },
  {
   "cell_type": "code",
   "execution_count": 7,
   "metadata": {
    "collapsed": false
   },
   "outputs": [],
   "source": [
    "# impute enrollee \n",
    "CPS['MD_enrollment'] = np.where(CPS.mcaid=='Yes', 1, 0)"
   ]
  },
  {
   "cell_type": "code",
   "execution_count": 17,
   "metadata": {
    "collapsed": true
   },
   "outputs": [],
   "source": [
    "random.seed(1)"
   ]
  },
  {
   "cell_type": "code",
   "execution_count": 25,
   "metadata": {
    "collapsed": false
   },
   "outputs": [
    {
     "name": "stderr",
     "output_type": "stream",
     "text": [
      "/Users/Amy/anaconda/lib/python2.7/site-packages/ipykernel/__main__.py:8: SettingWithCopyWarning: \n",
      "A value is trying to be set on a copy of a slice from a DataFrame\n",
      "\n",
      "See the caveats in the documentation: http://pandas.pydata.org/pandas-docs/stable/indexing.html#indexing-view-versus-copy\n"
     ]
    }
   ],
   "source": [
    "below_124 = (CPS.povll=='1.00 to 1.24')|(CPS.povll=='.75 to .99')|(CPS.povll=='Under .50')|(CPS.povll=='.50 to .74')\n",
    "imputed_total = 0\n",
    "while imputed_total < (63 - 54.1) * 1000000:\n",
    "    not_enrolled = (CPS.MD_enrollment==0)\n",
    "    candidates = CPS.peridnum[below_124&not_enrolled]\n",
    "    \n",
    "    rand = random.randint(1, len(candidates))\n",
    "    index = candidates.index[rand-1]\n",
    "    CPS.MD_enrollment[CPS.peridnum==candidates[index]] = 2\n",
    "    \n",
    "    imputed_total += int(CPS.marsupwt[CPS.peridnum==candidates[index]])"
   ]
  },
  {
   "cell_type": "code",
   "execution_count": 28,
   "metadata": {
    "collapsed": false
   },
   "outputs": [
    {
     "data": {
      "text/plain": [
       "62983987.130000785"
      ]
     },
     "execution_count": 28,
     "metadata": {},
     "output_type": "execute_result"
    }
   ],
   "source": [
    "CPS.marsupwt[CPS.MD_enrollment!=0].sum()"
   ]
  },
  {
   "cell_type": "code",
   "execution_count": 29,
   "metadata": {
    "collapsed": false
   },
   "outputs": [],
   "source": [
    "CPS.wsal_val = np.where(CPS.wsal_val==\"None or not in universe\", 0, CPS.wsal_val)\n",
    "CPS.wsal_val = pd.to_numeric(CPS.wsal_val)"
   ]
  },
  {
   "cell_type": "code",
   "execution_count": 30,
   "metadata": {
    "collapsed": false
   },
   "outputs": [],
   "source": [
    "CPS.a_age = np.where(CPS.a_age == \"80-84 years of age\",\n",
    "                     random.randrange(80, 84),\n",
    "                     CPS.a_age)\n",
    "CPS.a_age = np.where(CPS.a_age == \"85+ years of age\",\n",
    "                     random.randrange(85, 95),\n",
    "                     CPS.a_age)\n",
    "CPS.a_age = pd.to_numeric(CPS.a_age)"
   ]
  },
  {
   "cell_type": "code",
   "execution_count": 31,
   "metadata": {
    "collapsed": false
   },
   "outputs": [],
   "source": [
    "CPS['MEPS_ID'] = np.zeros(len(CPS))"
   ]
  },
  {
   "cell_type": "code",
   "execution_count": 32,
   "metadata": {
    "collapsed": true
   },
   "outputs": [],
   "source": [
    "CPS = CPS[CPS.MD_enrollment!=0]"
   ]
  },
  {
   "cell_type": "code",
   "execution_count": 33,
   "metadata": {
    "collapsed": false
   },
   "outputs": [
    {
     "data": {
      "text/plain": [
       "29862"
      ]
     },
     "execution_count": 33,
     "metadata": {},
     "output_type": "execute_result"
    }
   ],
   "source": [
    "len(CPS)"
   ]
  },
  {
   "cell_type": "code",
   "execution_count": 34,
   "metadata": {
    "collapsed": true
   },
   "outputs": [],
   "source": [
    "Region = ['Northeast', 'South', 'Midwest', 'West']\n",
    "Gender = ['Male', 'Female']"
   ]
  },
  {
   "cell_type": "code",
   "execution_count": 76,
   "metadata": {
    "collapsed": false,
    "scrolled": false
   },
   "outputs": [
    {
     "name": "stderr",
     "output_type": "stream",
     "text": [
      "/Users/Amy/anaconda/lib/python2.7/site-packages/ipykernel/__main__.py:32: SettingWithCopyWarning: \n",
      "A value is trying to be set on a copy of a slice from a DataFrame\n",
      "\n",
      "See the caveats in the documentation: http://pandas.pydata.org/pandas-docs/stable/indexing.html#indexing-view-versus-copy\n",
      "/Users/Amy/anaconda/lib/python2.7/site-packages/ipykernel/__main__.py:37: SettingWithCopyWarning: \n",
      "A value is trying to be set on a copy of a slice from a DataFrame\n",
      "\n",
      "See the caveats in the documentation: http://pandas.pydata.org/pandas-docs/stable/indexing.html#indexing-view-versus-copy\n"
     ]
    }
   ],
   "source": [
    "for this_area in Region:\n",
    "    for this_gender in Gender:\n",
    "        subset_CPS = CPS[(CPS.gereg==this_area)*(CPS.a_sex==this_gender)]\n",
    "        MEPS_donor = MEPS_medicaid[(MEPS_medicaid.REGION14==this_area)*(MEPS_medicaid.SEX==this_gender)]\n",
    "        \n",
    "        for i, record in subset_CPS.iterrows():\n",
    "            age_range = [record.a_age - 2, record.a_age + 2]\n",
    "            income_range = [record.wsal_val - 100, record.wsal_val + 100]\n",
    "            \n",
    "            f1 = (MEPS_donor.AGE14X >= age_range[0])\n",
    "            f2 = (MEPS_donor.AGE14X <= age_range[1])\n",
    "            f3 = (MEPS_donor.WAGEP14X >= income_range[0])\n",
    "            f4 = (MEPS_donor.WAGEP14X <= income_range[1])\n",
    "            pool = MEPS_donor[f1 * f2 * f3 * f4]\n",
    "            \n",
    "            number_donors = len(pool)\n",
    "                \n",
    "            if number_donors < 1:\n",
    "                # release income constraints and find the person w/ closest income\n",
    "                pool = MEPS_donor[f1 * f2]\n",
    "                number_donors = len(pool)\n",
    "                \n",
    "                if number_donors < 1:                    \n",
    "                    if record.a_age < 85:\n",
    "                        print 'dont have anyone in this age range'\n",
    "                        print age_range\n",
    "                        continue\n",
    "                    else:\n",
    "                        pool = MEPS_medicaid[MEPS_medicaid.AGE14X==85]\n",
    "\n",
    "                closest_wage = min(pool.WAGEP14X, key=lambda x:abs(x-record.wsal_val))\n",
    "                CPS.MEPS_ID[CPS.peridnum==record.peridnum] = pool.DUPERSID[pool.WAGEP14X==closest_wage].values[0]    \n",
    "\n",
    "            else:\n",
    "                row_number = random.randint(1, number_donors) - 1\n",
    "                index = pool.DUPERSID.index[row_number]\n",
    "                CPS.MEPS_ID[CPS.peridnum==record.peridnum] = pool.DUPERSID.loc[index] "
   ]
  },
  {
   "cell_type": "code",
   "execution_count": 77,
   "metadata": {
    "collapsed": false
   },
   "outputs": [
    {
     "data": {
      "text/plain": [
       "62983987.130000785"
      ]
     },
     "execution_count": 77,
     "metadata": {},
     "output_type": "execute_result"
    }
   ],
   "source": [
    "CPS.marsupwt[CPS.MEPS_ID!=0].sum()"
   ]
  },
  {
   "cell_type": "code",
   "execution_count": 78,
   "metadata": {
    "collapsed": false
   },
   "outputs": [],
   "source": [
    "CPS['DUPERSID'] = CPS.MEPS_ID\n",
    "CPS = pd.merge(CPS, MEPS_medicaid, on='DUPERSID', how='left')"
   ]
  },
  {
   "cell_type": "code",
   "execution_count": 79,
   "metadata": {
    "collapsed": false
   },
   "outputs": [],
   "source": [
    "Matched_total = (CPS.marsupwt*CPS.TOTMCD14)[CPS.MEPS_ID!=0].sum()/1000000000"
   ]
  },
  {
   "cell_type": "code",
   "execution_count": 80,
   "metadata": {
    "collapsed": false
   },
   "outputs": [
    {
     "name": "stdout",
     "output_type": "stream",
     "text": [
      "168.847450234\n"
     ]
    }
   ],
   "source": [
    "print Matched_total"
   ]
  },
  {
   "cell_type": "code",
   "execution_count": 81,
   "metadata": {
    "collapsed": true
   },
   "outputs": [],
   "source": [
    "Medicaid_total_noninstitutional = 468.8 - 71.2\n",
    "ratio = Medicaid_total_noninstitutional/Matched_total"
   ]
  },
  {
   "cell_type": "code",
   "execution_count": 82,
   "metadata": {
    "collapsed": false
   },
   "outputs": [],
   "source": [
    "CPS[\"MedicaidX\"] = np.zeros(len(CPS))\n",
    "CPS.MedicaidX = CPS.TOTMCD14 * ratio"
   ]
  },
  {
   "cell_type": "code",
   "execution_count": 88,
   "metadata": {
    "collapsed": false
   },
   "outputs": [],
   "source": [
    "CPS[['peridnum', 'MedicaidX', 'MD_enrollment']].to_csv('medicaid14.csv', index=False)"
   ]
  },
  {
   "cell_type": "code",
   "execution_count": null,
   "metadata": {
    "collapsed": true
   },
   "outputs": [],
   "source": []
  }
 ],
 "metadata": {
  "kernelspec": {
   "display_name": "Python 2",
   "language": "python",
   "name": "python2"
  },
  "language_info": {
   "codemirror_mode": {
    "name": "ipython",
    "version": 2
   },
   "file_extension": ".py",
   "mimetype": "text/x-python",
   "name": "python",
   "nbconvert_exporter": "python",
   "pygments_lexer": "ipython2",
   "version": "2.7.12"
  }
 },
 "nbformat": 4,
 "nbformat_minor": 0
}
